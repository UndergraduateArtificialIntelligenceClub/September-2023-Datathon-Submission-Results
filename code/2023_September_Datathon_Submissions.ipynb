{
 "cells": [
  {
   "cell_type": "code",
   "execution_count": 1,
   "id": "2de5fa30",
   "metadata": {},
   "outputs": [],
   "source": [
    "import pandas as pd\n",
    "import numpy as np\n",
    "from sklearn.metrics import f1_score"
   ]
  },
  {
   "cell_type": "code",
   "execution_count": 2,
   "id": "b8a15b6e",
   "metadata": {},
   "outputs": [],
   "source": [
    "# test.csv is the same dataset that was the test.csv in the kaggle submissions \n",
    "test = pd.read_csv(\"test.csv\")"
   ]
  },
  {
   "cell_type": "code",
   "execution_count": 3,
   "id": "147c7391",
   "metadata": {},
   "outputs": [],
   "source": [
    "# This was the main dataset that was split into train/test on\n",
    "wildfires = pd.read_csv(\"fp-historical-wildfire-data-2006-2021-modified-v2.csv\")"
   ]
  },
  {
   "cell_type": "code",
   "execution_count": 4,
   "id": "bf8eb339",
   "metadata": {},
   "outputs": [],
   "source": [
    "# In the process of creating the solution.csv the size classses got scrambled, so we need to get the labels back from the \n",
    "# original dataset\n",
    "relevant_xl_data = wildfires[['fire_number', 'fire_location_latitude', 'fire_location_longitude', 'size_class']]\n",
    "\n",
    "merged_data = pd.merge(test, relevant_xl_data, on=['fire_number', 'fire_location_latitude', 'fire_location_longitude'], how='left')"
   ]
  },
  {
   "cell_type": "code",
   "execution_count": 6,
   "id": "48ba714d",
   "metadata": {},
   "outputs": [
    {
     "data": {
      "text/html": [
       "<div>\n",
       "<style scoped>\n",
       "    .dataframe tbody tr th:only-of-type {\n",
       "        vertical-align: middle;\n",
       "    }\n",
       "\n",
       "    .dataframe tbody tr th {\n",
       "        vertical-align: top;\n",
       "    }\n",
       "\n",
       "    .dataframe thead th {\n",
       "        text-align: right;\n",
       "    }\n",
       "</style>\n",
       "<table border=\"1\" class=\"dataframe\">\n",
       "  <thead>\n",
       "    <tr style=\"text-align: right;\">\n",
       "      <th></th>\n",
       "      <th>fire_id</th>\n",
       "      <th>fire_year</th>\n",
       "      <th>fire_number</th>\n",
       "      <th>fire_name</th>\n",
       "      <th>fire_location_latitude</th>\n",
       "      <th>fire_location_longitude</th>\n",
       "      <th>fire_origin</th>\n",
       "      <th>general_cause_desc</th>\n",
       "      <th>industry_identifier_desc</th>\n",
       "      <th>responsible_group_desc</th>\n",
       "      <th>...</th>\n",
       "      <th>initial_action_by</th>\n",
       "      <th>ia_arrival_at_fire_date</th>\n",
       "      <th>ia_access</th>\n",
       "      <th>fire_fighting_start_date</th>\n",
       "      <th>fire_fighting_start_size</th>\n",
       "      <th>bucketing_on_fire</th>\n",
       "      <th>distance_from_water_source</th>\n",
       "      <th>first_bucket_drop_date</th>\n",
       "      <th>ex_fs_date</th>\n",
       "      <th>size_class</th>\n",
       "    </tr>\n",
       "  </thead>\n",
       "  <tbody>\n",
       "    <tr>\n",
       "      <th>0</th>\n",
       "      <td>0</td>\n",
       "      <td>2008</td>\n",
       "      <td>LWF168</td>\n",
       "      <td>NaN</td>\n",
       "      <td>54.777350</td>\n",
       "      <td>-113.518083</td>\n",
       "      <td>Private Land</td>\n",
       "      <td>Resident</td>\n",
       "      <td>NaN</td>\n",
       "      <td>Resident</td>\n",
       "      <td>...</td>\n",
       "      <td>Land Owner</td>\n",
       "      <td>NaN</td>\n",
       "      <td>NaN</td>\n",
       "      <td>NaN</td>\n",
       "      <td>NaN</td>\n",
       "      <td>NaN</td>\n",
       "      <td>NaN</td>\n",
       "      <td>NaN</td>\n",
       "      <td>2008-09-17 15:00:00</td>\n",
       "      <td>A</td>\n",
       "    </tr>\n",
       "    <tr>\n",
       "      <th>1</th>\n",
       "      <td>1</td>\n",
       "      <td>2010</td>\n",
       "      <td>SWF337</td>\n",
       "      <td>NaN</td>\n",
       "      <td>55.641917</td>\n",
       "      <td>-115.967867</td>\n",
       "      <td>Private Land</td>\n",
       "      <td>Recreation</td>\n",
       "      <td>NaN</td>\n",
       "      <td>Hunters</td>\n",
       "      <td>...</td>\n",
       "      <td>FPD Staff</td>\n",
       "      <td>2010-11-06 20:05:00</td>\n",
       "      <td>NaN</td>\n",
       "      <td>2010-11-07 10:55:00</td>\n",
       "      <td>0.10</td>\n",
       "      <td>N</td>\n",
       "      <td>NaN</td>\n",
       "      <td>NaN</td>\n",
       "      <td>2010-12-02 14:30:00</td>\n",
       "      <td>B</td>\n",
       "    </tr>\n",
       "    <tr>\n",
       "      <th>2</th>\n",
       "      <td>2</td>\n",
       "      <td>2018</td>\n",
       "      <td>EWF071</td>\n",
       "      <td>NaN</td>\n",
       "      <td>53.245083</td>\n",
       "      <td>-116.484983</td>\n",
       "      <td>Provincial Land</td>\n",
       "      <td>Lightning</td>\n",
       "      <td>NaN</td>\n",
       "      <td>NaN</td>\n",
       "      <td>...</td>\n",
       "      <td>HAC</td>\n",
       "      <td>2018-06-22 16:39:00</td>\n",
       "      <td>Conventional R/W</td>\n",
       "      <td>2018-06-22 16:39:00</td>\n",
       "      <td>0.01</td>\n",
       "      <td>N</td>\n",
       "      <td>NaN</td>\n",
       "      <td>NaN</td>\n",
       "      <td>2018-06-22 18:40:00</td>\n",
       "      <td>A</td>\n",
       "    </tr>\n",
       "    <tr>\n",
       "      <th>3</th>\n",
       "      <td>3</td>\n",
       "      <td>2013</td>\n",
       "      <td>GWF027</td>\n",
       "      <td>NaN</td>\n",
       "      <td>54.512305</td>\n",
       "      <td>-118.963071</td>\n",
       "      <td>Provincial Land</td>\n",
       "      <td>Recreation</td>\n",
       "      <td>NaN</td>\n",
       "      <td>Campers</td>\n",
       "      <td>...</td>\n",
       "      <td>FPD Staff</td>\n",
       "      <td>2013-05-28 13:00:00</td>\n",
       "      <td>NaN</td>\n",
       "      <td>2013-05-28 13:00:00</td>\n",
       "      <td>0.01</td>\n",
       "      <td>N</td>\n",
       "      <td>NaN</td>\n",
       "      <td>NaN</td>\n",
       "      <td>2013-05-28 13:10:00</td>\n",
       "      <td>A</td>\n",
       "    </tr>\n",
       "    <tr>\n",
       "      <th>4</th>\n",
       "      <td>4</td>\n",
       "      <td>2012</td>\n",
       "      <td>EWF016</td>\n",
       "      <td>NaN</td>\n",
       "      <td>53.610003</td>\n",
       "      <td>-116.353007</td>\n",
       "      <td>Private Land</td>\n",
       "      <td>Resident</td>\n",
       "      <td>NaN</td>\n",
       "      <td>NaN</td>\n",
       "      <td>...</td>\n",
       "      <td>Land Owner</td>\n",
       "      <td>NaN</td>\n",
       "      <td>NaN</td>\n",
       "      <td>NaN</td>\n",
       "      <td>NaN</td>\n",
       "      <td>NaN</td>\n",
       "      <td>NaN</td>\n",
       "      <td>NaN</td>\n",
       "      <td>2012-05-09 14:40:00</td>\n",
       "      <td>A</td>\n",
       "    </tr>\n",
       "    <tr>\n",
       "      <th>...</th>\n",
       "      <td>...</td>\n",
       "      <td>...</td>\n",
       "      <td>...</td>\n",
       "      <td>...</td>\n",
       "      <td>...</td>\n",
       "      <td>...</td>\n",
       "      <td>...</td>\n",
       "      <td>...</td>\n",
       "      <td>...</td>\n",
       "      <td>...</td>\n",
       "      <td>...</td>\n",
       "      <td>...</td>\n",
       "      <td>...</td>\n",
       "      <td>...</td>\n",
       "      <td>...</td>\n",
       "      <td>...</td>\n",
       "      <td>...</td>\n",
       "      <td>...</td>\n",
       "      <td>...</td>\n",
       "      <td>...</td>\n",
       "      <td>...</td>\n",
       "    </tr>\n",
       "    <tr>\n",
       "      <th>4087</th>\n",
       "      <td>4087</td>\n",
       "      <td>2015</td>\n",
       "      <td>EWF078</td>\n",
       "      <td>NaN</td>\n",
       "      <td>53.903033</td>\n",
       "      <td>-118.396917</td>\n",
       "      <td>Provincial Land</td>\n",
       "      <td>Lightning</td>\n",
       "      <td>NaN</td>\n",
       "      <td>NaN</td>\n",
       "      <td>...</td>\n",
       "      <td>HAC</td>\n",
       "      <td>2015-07-10 19:20:00</td>\n",
       "      <td>Conventional R/W</td>\n",
       "      <td>2015-07-10 19:28:00</td>\n",
       "      <td>0.01</td>\n",
       "      <td>Y</td>\n",
       "      <td>0.5</td>\n",
       "      <td>2015-07-10 19:28:00</td>\n",
       "      <td>2015-07-11 12:20:00</td>\n",
       "      <td>A</td>\n",
       "    </tr>\n",
       "    <tr>\n",
       "      <th>4088</th>\n",
       "      <td>4088</td>\n",
       "      <td>2006</td>\n",
       "      <td>EWF250</td>\n",
       "      <td></td>\n",
       "      <td>53.080917</td>\n",
       "      <td>-116.399717</td>\n",
       "      <td>Provincial Land</td>\n",
       "      <td>Lightning</td>\n",
       "      <td>NaN</td>\n",
       "      <td>NaN</td>\n",
       "      <td>...</td>\n",
       "      <td>HAC1H</td>\n",
       "      <td>2006-08-19 13:28:00</td>\n",
       "      <td>Conventional R/W</td>\n",
       "      <td>2006-08-19 13:40:00</td>\n",
       "      <td>0.05</td>\n",
       "      <td>N</td>\n",
       "      <td>NaN</td>\n",
       "      <td>NaN</td>\n",
       "      <td>2006-08-19 16:40:00</td>\n",
       "      <td>A</td>\n",
       "    </tr>\n",
       "    <tr>\n",
       "      <th>4089</th>\n",
       "      <td>4089</td>\n",
       "      <td>2009</td>\n",
       "      <td>SWF220</td>\n",
       "      <td>NaN</td>\n",
       "      <td>55.460567</td>\n",
       "      <td>-116.733033</td>\n",
       "      <td>Private Land</td>\n",
       "      <td>Resident</td>\n",
       "      <td>NaN</td>\n",
       "      <td>Resident</td>\n",
       "      <td>...</td>\n",
       "      <td>Land Owner</td>\n",
       "      <td>NaN</td>\n",
       "      <td>NaN</td>\n",
       "      <td>NaN</td>\n",
       "      <td>NaN</td>\n",
       "      <td>NaN</td>\n",
       "      <td>NaN</td>\n",
       "      <td>NaN</td>\n",
       "      <td>2009-10-05 15:00:00</td>\n",
       "      <td>A</td>\n",
       "    </tr>\n",
       "    <tr>\n",
       "      <th>4090</th>\n",
       "      <td>4090</td>\n",
       "      <td>2016</td>\n",
       "      <td>SWF113</td>\n",
       "      <td>NaN</td>\n",
       "      <td>56.199217</td>\n",
       "      <td>-115.715233</td>\n",
       "      <td>Provincial Land</td>\n",
       "      <td>Lightning</td>\n",
       "      <td>NaN</td>\n",
       "      <td>NaN</td>\n",
       "      <td>...</td>\n",
       "      <td>HAC</td>\n",
       "      <td>2016-06-23 14:53:00</td>\n",
       "      <td>Conventional R/W</td>\n",
       "      <td>2016-06-23 15:00:00</td>\n",
       "      <td>0.10</td>\n",
       "      <td>Y</td>\n",
       "      <td>0.1</td>\n",
       "      <td>2016-06-23 15:00:00</td>\n",
       "      <td>2016-06-23 16:00:00</td>\n",
       "      <td>A</td>\n",
       "    </tr>\n",
       "    <tr>\n",
       "      <th>4091</th>\n",
       "      <td>4091</td>\n",
       "      <td>2014</td>\n",
       "      <td>HWF197</td>\n",
       "      <td>NaN</td>\n",
       "      <td>58.385350</td>\n",
       "      <td>-119.749383</td>\n",
       "      <td>Provincial Land</td>\n",
       "      <td>Lightning</td>\n",
       "      <td>NaN</td>\n",
       "      <td>NaN</td>\n",
       "      <td>...</td>\n",
       "      <td>HAC</td>\n",
       "      <td>2014-08-02 13:14:00</td>\n",
       "      <td>Conventional R/W</td>\n",
       "      <td>2014-08-02 13:45:00</td>\n",
       "      <td>1.00</td>\n",
       "      <td>Y</td>\n",
       "      <td>2.0</td>\n",
       "      <td>2014-08-02 15:05:00</td>\n",
       "      <td>2014-08-05 14:45:00</td>\n",
       "      <td>B</td>\n",
       "    </tr>\n",
       "  </tbody>\n",
       "</table>\n",
       "<p>4092 rows × 43 columns</p>\n",
       "</div>"
      ],
      "text/plain": [
       "      fire_id  fire_year fire_number fire_name  fire_location_latitude  \\\n",
       "0           0       2008      LWF168       NaN               54.777350   \n",
       "1           1       2010      SWF337       NaN               55.641917   \n",
       "2           2       2018      EWF071       NaN               53.245083   \n",
       "3           3       2013      GWF027       NaN               54.512305   \n",
       "4           4       2012      EWF016       NaN               53.610003   \n",
       "...       ...        ...         ...       ...                     ...   \n",
       "4087     4087       2015      EWF078       NaN               53.903033   \n",
       "4088     4088       2006      EWF250                         53.080917   \n",
       "4089     4089       2009      SWF220       NaN               55.460567   \n",
       "4090     4090       2016      SWF113       NaN               56.199217   \n",
       "4091     4091       2014      HWF197       NaN               58.385350   \n",
       "\n",
       "      fire_location_longitude      fire_origin general_cause_desc  \\\n",
       "0                 -113.518083     Private Land           Resident   \n",
       "1                 -115.967867     Private Land         Recreation   \n",
       "2                 -116.484983  Provincial Land          Lightning   \n",
       "3                 -118.963071  Provincial Land         Recreation   \n",
       "4                 -116.353007     Private Land           Resident   \n",
       "...                       ...              ...                ...   \n",
       "4087              -118.396917  Provincial Land          Lightning   \n",
       "4088              -116.399717  Provincial Land          Lightning   \n",
       "4089              -116.733033     Private Land           Resident   \n",
       "4090              -115.715233  Provincial Land          Lightning   \n",
       "4091              -119.749383  Provincial Land          Lightning   \n",
       "\n",
       "     industry_identifier_desc responsible_group_desc  ... initial_action_by  \\\n",
       "0                         NaN               Resident  ...        Land Owner   \n",
       "1                         NaN                Hunters  ...         FPD Staff   \n",
       "2                         NaN                    NaN  ...               HAC   \n",
       "3                         NaN                Campers  ...         FPD Staff   \n",
       "4                         NaN                    NaN  ...        Land Owner   \n",
       "...                       ...                    ...  ...               ...   \n",
       "4087                      NaN                    NaN  ...               HAC   \n",
       "4088                      NaN                    NaN  ...             HAC1H   \n",
       "4089                      NaN               Resident  ...        Land Owner   \n",
       "4090                      NaN                    NaN  ...               HAC   \n",
       "4091                      NaN                    NaN  ...               HAC   \n",
       "\n",
       "     ia_arrival_at_fire_date         ia_access fire_fighting_start_date  \\\n",
       "0                        NaN               NaN                      NaN   \n",
       "1        2010-11-06 20:05:00               NaN      2010-11-07 10:55:00   \n",
       "2        2018-06-22 16:39:00  Conventional R/W      2018-06-22 16:39:00   \n",
       "3        2013-05-28 13:00:00               NaN      2013-05-28 13:00:00   \n",
       "4                        NaN               NaN                      NaN   \n",
       "...                      ...               ...                      ...   \n",
       "4087     2015-07-10 19:20:00  Conventional R/W      2015-07-10 19:28:00   \n",
       "4088     2006-08-19 13:28:00  Conventional R/W      2006-08-19 13:40:00   \n",
       "4089                     NaN               NaN                      NaN   \n",
       "4090     2016-06-23 14:53:00  Conventional R/W      2016-06-23 15:00:00   \n",
       "4091     2014-08-02 13:14:00  Conventional R/W      2014-08-02 13:45:00   \n",
       "\n",
       "     fire_fighting_start_size bucketing_on_fire  distance_from_water_source  \\\n",
       "0                         NaN               NaN                         NaN   \n",
       "1                        0.10                 N                         NaN   \n",
       "2                        0.01                 N                         NaN   \n",
       "3                        0.01                 N                         NaN   \n",
       "4                         NaN               NaN                         NaN   \n",
       "...                       ...               ...                         ...   \n",
       "4087                     0.01                 Y                         0.5   \n",
       "4088                     0.05                 N                         NaN   \n",
       "4089                      NaN               NaN                         NaN   \n",
       "4090                     0.10                 Y                         0.1   \n",
       "4091                     1.00                 Y                         2.0   \n",
       "\n",
       "     first_bucket_drop_date           ex_fs_date size_class  \n",
       "0                       NaN  2008-09-17 15:00:00          A  \n",
       "1                       NaN  2010-12-02 14:30:00          B  \n",
       "2                       NaN  2018-06-22 18:40:00          A  \n",
       "3                       NaN  2013-05-28 13:10:00          A  \n",
       "4                       NaN  2012-05-09 14:40:00          A  \n",
       "...                     ...                  ...        ...  \n",
       "4087    2015-07-10 19:28:00  2015-07-11 12:20:00          A  \n",
       "4088                    NaN  2006-08-19 16:40:00          A  \n",
       "4089                    NaN  2009-10-05 15:00:00          A  \n",
       "4090    2016-06-23 15:00:00  2016-06-23 16:00:00          A  \n",
       "4091    2014-08-02 15:05:00  2014-08-05 14:45:00          B  \n",
       "\n",
       "[4092 rows x 43 columns]"
      ]
     },
     "execution_count": 6,
     "metadata": {},
     "output_type": "execute_result"
    }
   ],
   "source": [
    "merged_data"
   ]
  },
  {
   "cell_type": "code",
   "execution_count": 7,
   "id": "b413eb8b",
   "metadata": {},
   "outputs": [],
   "source": [
    "def encode(size_class): \n",
    "    if size_class == \"A\": \n",
    "        size_class = 1\n",
    "    elif size_class == \"B\": \n",
    "        size_class = 2\n",
    "    elif size_class == \"C\":\n",
    "        size_class = 3\n",
    "    elif size_class == \"D\": \n",
    "        size_class = 4\n",
    "    else: \n",
    "        size_class = 5\n",
    "    return size_class"
   ]
  },
  {
   "cell_type": "code",
   "execution_count": null,
   "id": "2cef6af3",
   "metadata": {},
   "outputs": [],
   "source": [
    "# The solution csv was the submission that the team selected for the final score"
   ]
  },
  {
   "cell_type": "code",
   "execution_count": 33,
   "id": "20cda816",
   "metadata": {},
   "outputs": [],
   "source": [
    "solutions_y = merged_data[\"size_class\"].apply(encode)"
   ]
  },
  {
   "cell_type": "code",
   "execution_count": 10,
   "id": "31debeeb",
   "metadata": {},
   "outputs": [],
   "source": [
    "steven_tang_submission = pd.read_csv(\"Steven_tang_submission.csv\")"
   ]
  },
  {
   "cell_type": "code",
   "execution_count": 11,
   "id": "2f88e72c",
   "metadata": {},
   "outputs": [],
   "source": [
    "steven_tang_submission_y = steven_tang_submission[\"size_class\"]"
   ]
  },
  {
   "cell_type": "code",
   "execution_count": 12,
   "id": "f378bf4e",
   "metadata": {},
   "outputs": [],
   "source": [
    "Yong_W_Lee_submission = pd.read_csv(\"Yong_W_Lee_submission.csv\")"
   ]
  },
  {
   "cell_type": "code",
   "execution_count": 13,
   "id": "3a63e2a9",
   "metadata": {},
   "outputs": [],
   "source": [
    "Yong_W_Lee_submission_y = Yong_W_Lee_submission[\"size_class\"]"
   ]
  },
  {
   "cell_type": "code",
   "execution_count": 14,
   "id": "e398ae85",
   "metadata": {},
   "outputs": [],
   "source": [
    "Yukesh_Subedi_submission = pd.read_csv(\"Yukesh_Subedi_submission.csv\")"
   ]
  },
  {
   "cell_type": "code",
   "execution_count": 15,
   "id": "fd6d3141",
   "metadata": {},
   "outputs": [],
   "source": [
    "Yukesh_Subedi_submission_y = Yukesh_Subedi_submission[\"size_class\"]"
   ]
  },
  {
   "cell_type": "code",
   "execution_count": 16,
   "id": "3eeceeb6",
   "metadata": {},
   "outputs": [],
   "source": [
    "Alexander_Bradley_submission = pd.read_csv(\"Alexander_Bradley_submission.csv\")"
   ]
  },
  {
   "cell_type": "code",
   "execution_count": 17,
   "id": "80aaf018",
   "metadata": {},
   "outputs": [],
   "source": [
    "Alexander_Bradley_submission_y = Alexander_Bradley_submission[\"size_class\"]"
   ]
  },
  {
   "cell_type": "code",
   "execution_count": 18,
   "id": "f1b2643c",
   "metadata": {},
   "outputs": [],
   "source": [
    "aman7999_submission = pd.read_csv(\"aman7999_submission.csv\")"
   ]
  },
  {
   "cell_type": "code",
   "execution_count": 19,
   "id": "977ff9b5",
   "metadata": {},
   "outputs": [],
   "source": [
    "aman7999_submission_y = aman7999_submission[\"size_class\"]"
   ]
  },
  {
   "cell_type": "code",
   "execution_count": 21,
   "id": "16d1a0b1",
   "metadata": {},
   "outputs": [],
   "source": [
    "Arden_Grant_submission = pd.read_csv(\"Arden_Grant_submission.csv\")"
   ]
  },
  {
   "cell_type": "code",
   "execution_count": 22,
   "id": "20109bcb",
   "metadata": {},
   "outputs": [],
   "source": [
    "Arden_Grant_submission_y = Arden_Grant_submission[\"size_class\"]"
   ]
  },
  {
   "cell_type": "code",
   "execution_count": 23,
   "id": "306238b4",
   "metadata": {},
   "outputs": [],
   "source": [
    "Faique_Ahmad_submission = pd.read_csv(\"Faique_Ahmad_submission.csv\")"
   ]
  },
  {
   "cell_type": "code",
   "execution_count": 24,
   "id": "5eff7dee",
   "metadata": {},
   "outputs": [],
   "source": [
    "Faique_Ahmad_submission_y = Faique_Ahmad_submission[\"Size Class\"]"
   ]
  },
  {
   "cell_type": "code",
   "execution_count": 25,
   "id": "8b93abc8",
   "metadata": {},
   "outputs": [],
   "source": [
    "MAZE_GAME_RULEZZZ_submission = pd.read_csv(\"MAZE_GAME_RULEZZZ_submission.csv\")"
   ]
  },
  {
   "cell_type": "code",
   "execution_count": 26,
   "id": "50c8b27f",
   "metadata": {},
   "outputs": [],
   "source": [
    "MAZE_GAME_RULEZZZ_submission_y = MAZE_GAME_RULEZZZ_submission[\"size_class\"]"
   ]
  },
  {
   "cell_type": "code",
   "execution_count": 27,
   "id": "76fa85fa",
   "metadata": {},
   "outputs": [],
   "source": [
    "# Raymart_Datuin_submission = pd.read_csv(\"Raymart_Datuin_submission.csv\") can't load in "
   ]
  },
  {
   "cell_type": "code",
   "execution_count": 28,
   "id": "1ef321fa",
   "metadata": {},
   "outputs": [],
   "source": [
    "smoke_busters_submission = pd.read_csv(\"smoke_busters_submission.csv\")"
   ]
  },
  {
   "cell_type": "code",
   "execution_count": 29,
   "id": "d644c6a8",
   "metadata": {},
   "outputs": [],
   "source": [
    "smoke_busters_submission = smoke_busters_submission.astype(int)"
   ]
  },
  {
   "cell_type": "code",
   "execution_count": 30,
   "id": "98125dbd",
   "metadata": {},
   "outputs": [],
   "source": [
    "smoke_busters_submission_y = smoke_busters_submission[\"size_class\"]"
   ]
  },
  {
   "cell_type": "code",
   "execution_count": 35,
   "id": "dfc49b7b",
   "metadata": {},
   "outputs": [],
   "source": [
    "steve_tang_score = f1_score(solutions_y, steven_tang_submission_y, average = \"weighted\")"
   ]
  },
  {
   "cell_type": "code",
   "execution_count": 36,
   "id": "9b8ec7fc",
   "metadata": {},
   "outputs": [],
   "source": [
    "Yong_W_Lee_score = f1_score(solutions_y, Yong_W_Lee_submission_y, average = \"weighted\")"
   ]
  },
  {
   "cell_type": "code",
   "execution_count": 37,
   "id": "82e15a83",
   "metadata": {},
   "outputs": [],
   "source": [
    "Yukesh_Subedi_score = f1_score(solutions_y, Yukesh_Subedi_submission_y, average = \"weighted\")"
   ]
  },
  {
   "cell_type": "code",
   "execution_count": 38,
   "id": "a4660494",
   "metadata": {},
   "outputs": [],
   "source": [
    "Alexander_Bradley_score = f1_score(solutions_y, Alexander_Bradley_submission_y, average = \"weighted\")"
   ]
  },
  {
   "cell_type": "code",
   "execution_count": 39,
   "id": "8dfcf4af",
   "metadata": {},
   "outputs": [],
   "source": [
    "aman7999_score = f1_score(solutions_y, aman7999_submission_y, average = \"weighted\")"
   ]
  },
  {
   "cell_type": "code",
   "execution_count": 40,
   "id": "332c9707",
   "metadata": {},
   "outputs": [],
   "source": [
    "Arden_Grant_score = f1_score(solutions_y, Arden_Grant_submission_y, average = \"weighted\")"
   ]
  },
  {
   "cell_type": "code",
   "execution_count": 41,
   "id": "954bf4d9",
   "metadata": {},
   "outputs": [],
   "source": [
    "Faique_Ahmad_score = f1_score(solutions_y, Faique_Ahmad_submission_y, average = \"weighted\")"
   ]
  },
  {
   "cell_type": "code",
   "execution_count": 42,
   "id": "8aaac205",
   "metadata": {},
   "outputs": [],
   "source": [
    "MAZE_GAME_RULEZZZ_score = f1_score(solutions_y, MAZE_GAME_RULEZZZ_submission_y, average = \"weighted\")"
   ]
  },
  {
   "cell_type": "code",
   "execution_count": 43,
   "id": "ca3c8aa5",
   "metadata": {},
   "outputs": [],
   "source": [
    "smoke_busters_score = f1_score(solutions_y, smoke_busters_submission_y, average = \"weighted\")"
   ]
  },
  {
   "cell_type": "code",
   "execution_count": 44,
   "id": "68272661",
   "metadata": {},
   "outputs": [],
   "source": [
    "scores = [steve_tang_score, Yong_W_Lee_score, Yukesh_Subedi_score, Alexander_Bradley_score, aman7999_score, Arden_Grant_score, Faique_Ahmad_score, MAZE_GAME_RULEZZZ_score, smoke_busters_score]"
   ]
  },
  {
   "cell_type": "code",
   "execution_count": 45,
   "id": "73df3123",
   "metadata": {},
   "outputs": [],
   "source": [
    "score_dict = {\"Steven Tang\": steve_tang_score, \"Yong W. Lee\": Yong_W_Lee_score, \"Yukesh Subedi\": Yukesh_Subedi_score, \"Alexander Bradley\":Alexander_Bradley_score, \"aman7999\":aman7999_score, \"Arden / Grant\":Arden_Grant_score, \"Faique Ahmad\":Faique_Ahmad_score, \"MAZE GAME RULEZZZZ\":MAZE_GAME_RULEZZZ_score, \"Smoke Busters\":smoke_busters_score}"
   ]
  },
  {
   "cell_type": "code",
   "execution_count": 46,
   "id": "80a788b9",
   "metadata": {},
   "outputs": [],
   "source": [
    "scores = pd.DataFrame(score_dict.items(), columns = [\"Team\", \"Score\"])"
   ]
  },
  {
   "cell_type": "code",
   "execution_count": 47,
   "id": "dc3855cb",
   "metadata": {},
   "outputs": [],
   "source": [
    "scores = scores.sort_values(by=[\"Score\"], ascending = False)"
   ]
  },
  {
   "cell_type": "code",
   "execution_count": 49,
   "id": "e70af8b7",
   "metadata": {},
   "outputs": [],
   "source": [
    "scores.reset_index(inplace = True, drop = True)"
   ]
  },
  {
   "cell_type": "code",
   "execution_count": 50,
   "id": "7f2e7e96",
   "metadata": {},
   "outputs": [
    {
     "data": {
      "text/html": [
       "<div>\n",
       "<style scoped>\n",
       "    .dataframe tbody tr th:only-of-type {\n",
       "        vertical-align: middle;\n",
       "    }\n",
       "\n",
       "    .dataframe tbody tr th {\n",
       "        vertical-align: top;\n",
       "    }\n",
       "\n",
       "    .dataframe thead th {\n",
       "        text-align: right;\n",
       "    }\n",
       "</style>\n",
       "<table border=\"1\" class=\"dataframe\">\n",
       "  <thead>\n",
       "    <tr style=\"text-align: right;\">\n",
       "      <th></th>\n",
       "      <th>Team</th>\n",
       "      <th>Score</th>\n",
       "    </tr>\n",
       "  </thead>\n",
       "  <tbody>\n",
       "    <tr>\n",
       "      <th>0</th>\n",
       "      <td>Yong W. Lee</td>\n",
       "      <td>0.901528</td>\n",
       "    </tr>\n",
       "    <tr>\n",
       "      <th>1</th>\n",
       "      <td>Alexander Bradley</td>\n",
       "      <td>0.891133</td>\n",
       "    </tr>\n",
       "    <tr>\n",
       "      <th>2</th>\n",
       "      <td>aman7999</td>\n",
       "      <td>0.861419</td>\n",
       "    </tr>\n",
       "    <tr>\n",
       "      <th>3</th>\n",
       "      <td>Faique Ahmad</td>\n",
       "      <td>0.860154</td>\n",
       "    </tr>\n",
       "    <tr>\n",
       "      <th>4</th>\n",
       "      <td>MAZE GAME RULEZZZZ</td>\n",
       "      <td>0.857838</td>\n",
       "    </tr>\n",
       "    <tr>\n",
       "      <th>5</th>\n",
       "      <td>Yukesh Subedi</td>\n",
       "      <td>0.769928</td>\n",
       "    </tr>\n",
       "    <tr>\n",
       "      <th>6</th>\n",
       "      <td>Arden / Grant</td>\n",
       "      <td>0.724541</td>\n",
       "    </tr>\n",
       "    <tr>\n",
       "      <th>7</th>\n",
       "      <td>Steven Tang</td>\n",
       "      <td>0.657273</td>\n",
       "    </tr>\n",
       "    <tr>\n",
       "      <th>8</th>\n",
       "      <td>Smoke Busters</td>\n",
       "      <td>0.125038</td>\n",
       "    </tr>\n",
       "  </tbody>\n",
       "</table>\n",
       "</div>"
      ],
      "text/plain": [
       "                 Team     Score\n",
       "0         Yong W. Lee  0.901528\n",
       "1   Alexander Bradley  0.891133\n",
       "2            aman7999  0.861419\n",
       "3        Faique Ahmad  0.860154\n",
       "4  MAZE GAME RULEZZZZ  0.857838\n",
       "5       Yukesh Subedi  0.769928\n",
       "6       Arden / Grant  0.724541\n",
       "7         Steven Tang  0.657273\n",
       "8       Smoke Busters  0.125038"
      ]
     },
     "execution_count": 50,
     "metadata": {},
     "output_type": "execute_result"
    }
   ],
   "source": [
    "scores"
   ]
  },
  {
   "cell_type": "code",
   "execution_count": null,
   "id": "34e1e8b4",
   "metadata": {},
   "outputs": [],
   "source": []
  }
 ],
 "metadata": {
  "kernelspec": {
   "display_name": "Python 3 (ipykernel)",
   "language": "python",
   "name": "python3"
  },
  "language_info": {
   "codemirror_mode": {
    "name": "ipython",
    "version": 3
   },
   "file_extension": ".py",
   "mimetype": "text/x-python",
   "name": "python",
   "nbconvert_exporter": "python",
   "pygments_lexer": "ipython3",
   "version": "3.10.4"
  }
 },
 "nbformat": 4,
 "nbformat_minor": 5
}
